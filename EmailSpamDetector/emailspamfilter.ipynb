{
 "cells": [
  {
   "cell_type": "markdown",
   "metadata": {},
   "source": [
    "## Email Spam Filtering\n",
    "Written by Hunter Jenkins \n",
    "\n",
    "The purpose of this program is to detect wether or not an email is spam by using the Bayesian model"
   ]
  },
  {
   "cell_type": "markdown",
   "metadata": {},
   "source": [
    "## Importing Libraries"
   ]
  },
  {
   "cell_type": "code",
   "execution_count": 47,
   "metadata": {},
   "outputs": [
    {
     "name": "stderr",
     "output_type": "stream",
     "text": [
      "[nltk_data] Downloading package punkt to\n",
      "[nltk_data]     /Users/hunterjenkins/nltk_data...\n",
      "[nltk_data]   Package punkt is already up-to-date!\n",
      "[nltk_data] Downloading package stopwords to\n",
      "[nltk_data]     /Users/hunterjenkins/nltk_data...\n",
      "[nltk_data]   Package stopwords is already up-to-date!\n",
      "[nltk_data] Downloading package wordnet to\n",
      "[nltk_data]     /Users/hunterjenkins/nltk_data...\n",
      "[nltk_data]   Package wordnet is already up-to-date!\n"
     ]
    },
    {
     "data": {
      "text/plain": [
       "True"
      ]
     },
     "execution_count": 47,
     "metadata": {},
     "output_type": "execute_result"
    }
   ],
   "source": [
    "import re\n",
    "import nltk\n",
    "import pandas as pd\n",
    "import numpy as np\n",
    "import string\n",
    "from nltk.corpus import stopwords\n",
    "from nltk.tokenize import word_tokenize\n",
    "import nltk\n",
    "import matplotlib.pyplot as plt\n",
    "import seaborn as sns\n",
    "from nltk.stem import PorterStemmer, WordNetLemmatizer\n",
    "from nltk.corpus import wordnet\n",
    "from sklearn.feature_extraction.text import CountVectorizer, TfidfVectorizer\n",
    "from sklearn.model_selection import train_test_split\n",
    "from sklearn.ensemble import RandomForestClassifier \n",
    "from sklearn.metrics import accuracy_score, confusion_matrix, classification_report, precision_score, recall_score\n",
    "from sklearn.naive_bayes import GaussianNB\n",
    "from sklearn.linear_model import LogisticRegression\n",
    "from sklearn.model_selection import cross_val_score, learning_curve\n",
    "from sklearn.model_selection import StratifiedKFold\n",
    "from gensim.models import Word2Vec\n",
    "nltk.download('punkt')\n",
    "nltk.download('stopwords')\n",
    "nltk.download('wordnet')\n"
   ]
  },
  {
   "cell_type": "markdown",
   "metadata": {},
   "source": [
    "## Reading in the File\n",
    "\n",
    "This email dataset has three columns. The first column is a unique identifier for each email. This column is not useful. The second column contains the body text of the emails which varies from \"spam\" to \"ham\". This column need to be handeled and procesed. The third column categorizes each email as either spam or not spam. "
   ]
  },
  {
   "cell_type": "code",
   "execution_count": 48,
   "metadata": {},
   "outputs": [
    {
     "data": {
      "text/plain": [
       "(1896, 4150)"
      ]
     },
     "execution_count": 48,
     "metadata": {},
     "output_type": "execute_result"
    }
   ],
   "source": [
    "data = pd.read_csv('completeSpamAssassin.csv')\n",
    "\n",
    "# Droping the first column \n",
    "data = data.drop(columns=['Unnamed: 0'])\n",
    "\n",
    "# Count the number of spam and not spam emails\n",
    "spam_count = data[data['Label'] == 1].shape[0]\n",
    "not_spam_count = data[data['Label'] == 0].shape[0]\n",
    "\n",
    "spam_count, not_spam_count\n"
   ]
  },
  {
   "cell_type": "markdown",
   "metadata": {},
   "source": [
    "After dropping the first column and counting the number of spam and not spam emails, this dataset appears to not be balanced which may lead to model basis in the future\n",
    "\n",
    "In addition to this, the dataset is starts out by listing all spam data first followed by all the non spam data last. \n",
    "\n",
    "Lets create a balanced dataset and then shuffle the data in order to prevent bias. This will also create the random distribution of data needed for cross-validation consistency"
   ]
  },
  {
   "cell_type": "code",
   "execution_count": 49,
   "metadata": {},
   "outputs": [],
   "source": [
    "# Find the minimum count to balance the dataset\n",
    "min_count = min(spam_count, not_spam_count)\n",
    "\n",
    "# Create a balanced dataset by sampling\n",
    "spam_sample = data[data['Label'] == 1].sample(n=min_count, random_state=42)\n",
    "not_spam_sample = data[data['Label'] == 0].sample(n=min_count, random_state=42)\n",
    "\n",
    "balanced_data = pd.concat([spam_sample, not_spam_sample])\n",
    "\n",
    "# Shuffle the dataset to mix spam and not spam emails\n",
    "balanced_data = balanced_data.sample(frac=1, random_state=42).reset_index(drop=True)\n",
    "\n",
    "# Dropping NaN values from the 'Body' column in the balanced_data\n",
    "balanced_data.replace('empty', np.nan, inplace=True)\n",
    "balanced_data = balanced_data.dropna(subset=['Body'])\n",
    "\n",
    "#extract on the email column in \n",
    "email_data = balanced_data[['Body']]\n",
    "\n"
   ]
  },
  {
   "cell_type": "markdown",
   "metadata": {},
   "source": [
    "## Cleaning the Data\n",
    "\n",
    "Removing unnecessary headers, footers, and quoting from emails by utilizing the \"re\" library"
   ]
  },
  {
   "cell_type": "code",
   "execution_count": 50,
   "metadata": {},
   "outputs": [
    {
     "name": "stdout",
     "output_type": "stream",
     "text": [
      "0    It was the Spring of 1979.  I was just a tall,...\n",
      "1    URL: /#85531557 Date: Not suppliedDisney's the...\n",
      "2     Â  Free Personal and Business Grants Â \" Qual...\n",
      "4    Damien Morton quoted: >W3C approves HTML 4 'em...\n",
      "5     _____________________________________________...\n",
      "Name: CleanedEmail, dtype: object\n"
     ]
    }
   ],
   "source": [
    "\n",
    "def clean_email(email):\n",
    "    email = str(email)\n",
    "\n",
    "    # Remove email addresses\n",
    "    cleaned_email = re.sub(r'\\S*@\\S*\\s?', '', email)\n",
    "    # Enhanced URL removal\n",
    "    url_pattern = r'https?://[-\\w.]+(\\[-\\w./?%&=]*[\\w./?%&=])?|www\\.\\S+'\n",
    "    cleaned_email = re.sub(url_pattern, '', cleaned_email)\n",
    "    # Remove newlines\n",
    "    cleaned_email = re.sub(r'\\n', ' ', cleaned_email)\n",
    "    # Remove newlines and encoded characters\n",
    "    cleaned_email = re.sub(r'\\n', ' ', cleaned_email)\n",
    "    cleaned_email = re.sub(r'&\\S+;', ' ', cleaned_email)  # Handles common HTML entities\n",
    "    cleaned_email = re.sub(r'\\*{2,}', '', cleaned_email)  # Removes the ***** sequences entirely\n",
    "\n",
    "    return cleaned_email\n",
    "\n",
    "# Apply the cleaning function to each email in the 'Body' column of the dataset\n",
    "email_data['CleanedEmail'] = email_data['Body'].apply(clean_email)\n",
    "# Display the first few entries of the cleaned email data\n",
    "print(email_data['CleanedEmail'].head())\n",
    "\n",
    "# Save the cleaned emails to a new CSV file, one email per row\n",
    "email_data[['CleanedEmail']].to_csv('cleaned_emails.csv', index=False)\n",
    "\n",
    "\n",
    "\n",
    "\n"
   ]
  },
  {
   "cell_type": "markdown",
   "metadata": {},
   "source": [
    "## Tokenization\n",
    "\n",
    "Breaks text into several works or tokens\n",
    "We created custom stopwords to reduce noise in our model"
   ]
  },
  {
   "cell_type": "code",
   "execution_count": 51,
   "metadata": {},
   "outputs": [
    {
     "data": {
      "text/plain": [
       "0    [It, was, the, Spring, of, 1979, ., I, was, ju...\n",
       "1    [URL, :, /, #, 85531557, Date, :, Not, supplie...\n",
       "2    [Â, Free, Personal, and, Business, Grants, Â, ...\n",
       "4    [Damien, Morton, quoted, :, >, W3C, approves, ...\n",
       "5    [_____________________________________________...\n",
       "Name: CleanedEmail, dtype: object"
      ]
     },
     "execution_count": 51,
     "metadata": {},
     "output_type": "execute_result"
    }
   ],
   "source": [
    "# Tokenize the cleaned email data\n",
    "\n",
    "tokens = email_data['CleanedEmail'].apply(word_tokenize)\n",
    "\n",
    "# Display the first few entries of the tokenized email data\n",
    "tokens.head()"
   ]
  },
  {
   "cell_type": "markdown",
   "metadata": {},
   "source": [
    "## Stopword Removal\n",
    "\n",
    "Removing common words that dont contribute to the meaning\n",
    "For this, we are going to include unnessecary symbols in our stopwords\n"
   ]
  },
  {
   "cell_type": "code",
   "execution_count": 52,
   "metadata": {},
   "outputs": [
    {
     "data": {
      "text/plain": [
       "0    [Spring, 1979, ., tall, ,, goofy, looking, kid...\n",
       "1    [URL, :, /, #, 85531557, Date, :, suppliedDisn...\n",
       "2    [Â, Free, Personal, Business, Grants, Â, '', Q...\n",
       "4    [Damien, Morton, quoted, :, >, W3C, approves, ...\n",
       "5    [_____________________________________________...\n",
       "Name: CleanedEmail, dtype: object"
      ]
     },
     "execution_count": 52,
     "metadata": {},
     "output_type": "execute_result"
    }
   ],
   "source": [
    "stop_words = set(stopwords.words('english'))\n",
    "\n",
    "# Function to remove stopwords from a list of tokens\n",
    "def remove_stopwords(token_list):\n",
    "    return [word for word in token_list if word.lower() not in stop_words]\n",
    "\n",
    "# Apply the function to each list of tokens in the Series\n",
    "filtered_tokens = tokens.apply(remove_stopwords)\n",
    "\n",
    "# Display the first few entries of the tokenized and stopword-removed email data\n",
    "filtered_tokens.head()"
   ]
  },
  {
   "cell_type": "markdown",
   "metadata": {},
   "source": [
    "## Stemming/Lemmatization\n",
    "\n",
    "Convert words to their base or root form"
   ]
  },
  {
   "cell_type": "code",
   "execution_count": 53,
   "metadata": {},
   "outputs": [],
   "source": [
    "# Initialize stemmer and lemmatizer\n",
    "stemmer = PorterStemmer()\n",
    "lemmatizer = WordNetLemmatizer()\n",
    "\n",
    "# Assuming filtered_tokens is a list of lists (each inner list is a list of tokens from a document)\n",
    "stems = [[stemmer.stem(word) for word in token_list] for token_list in filtered_tokens]\n",
    "lemmas = [[lemmatizer.lemmatize(word) for word in token_list] for token_list in filtered_tokens]\n",
    "\n"
   ]
  },
  {
   "cell_type": "markdown",
   "metadata": {},
   "source": [
    "## Vectorization\n",
    "\n",
    "Converting text to numbers is essential in natural language processing. We are going to be using word embeddings\n",
    "\n",
    "Word Embeddings is a NLP technique in which it represents words in high-dimensional space where the position of each word is learned from text and reflects the semantic meaning based on the context. \n",
    "\n",
    "The library we for Word Embeddings: Word2Vec"
   ]
  },
  {
   "cell_type": "code",
   "execution_count": 54,
   "metadata": {},
   "outputs": [
    {
     "data": {
      "text/html": [
       "<div>\n",
       "<style scoped>\n",
       "    .dataframe tbody tr th:only-of-type {\n",
       "        vertical-align: middle;\n",
       "    }\n",
       "\n",
       "    .dataframe tbody tr th {\n",
       "        vertical-align: top;\n",
       "    }\n",
       "\n",
       "    .dataframe thead th {\n",
       "        text-align: right;\n",
       "    }\n",
       "</style>\n",
       "<table border=\"1\" class=\"dataframe\">\n",
       "  <thead>\n",
       "    <tr style=\"text-align: right;\">\n",
       "      <th></th>\n",
       "      <th>0</th>\n",
       "      <th>1</th>\n",
       "      <th>2</th>\n",
       "      <th>3</th>\n",
       "      <th>4</th>\n",
       "      <th>5</th>\n",
       "      <th>6</th>\n",
       "      <th>7</th>\n",
       "      <th>8</th>\n",
       "      <th>9</th>\n",
       "      <th>...</th>\n",
       "      <th>91</th>\n",
       "      <th>92</th>\n",
       "      <th>93</th>\n",
       "      <th>94</th>\n",
       "      <th>95</th>\n",
       "      <th>96</th>\n",
       "      <th>97</th>\n",
       "      <th>98</th>\n",
       "      <th>99</th>\n",
       "      <th>Label</th>\n",
       "    </tr>\n",
       "  </thead>\n",
       "  <tbody>\n",
       "    <tr>\n",
       "      <th>0</th>\n",
       "      <td>-0.148692</td>\n",
       "      <td>0.466134</td>\n",
       "      <td>-0.486252</td>\n",
       "      <td>-0.690672</td>\n",
       "      <td>-0.820072</td>\n",
       "      <td>-1.145559</td>\n",
       "      <td>0.510501</td>\n",
       "      <td>0.415211</td>\n",
       "      <td>-0.910415</td>\n",
       "      <td>-0.272286</td>\n",
       "      <td>...</td>\n",
       "      <td>-0.041638</td>\n",
       "      <td>-0.516989</td>\n",
       "      <td>0.168826</td>\n",
       "      <td>1.117325</td>\n",
       "      <td>0.015239</td>\n",
       "      <td>0.197807</td>\n",
       "      <td>-0.390675</td>\n",
       "      <td>1.528880</td>\n",
       "      <td>-0.232648</td>\n",
       "      <td>1</td>\n",
       "    </tr>\n",
       "    <tr>\n",
       "      <th>1</th>\n",
       "      <td>-0.210207</td>\n",
       "      <td>0.281609</td>\n",
       "      <td>-0.754280</td>\n",
       "      <td>-0.000812</td>\n",
       "      <td>-0.515597</td>\n",
       "      <td>-1.020687</td>\n",
       "      <td>0.611317</td>\n",
       "      <td>0.437532</td>\n",
       "      <td>-0.769369</td>\n",
       "      <td>-0.191258</td>\n",
       "      <td>...</td>\n",
       "      <td>0.120672</td>\n",
       "      <td>-0.432101</td>\n",
       "      <td>0.280542</td>\n",
       "      <td>0.875076</td>\n",
       "      <td>0.048334</td>\n",
       "      <td>-0.089805</td>\n",
       "      <td>-0.622025</td>\n",
       "      <td>0.941564</td>\n",
       "      <td>-0.108161</td>\n",
       "      <td>0</td>\n",
       "    </tr>\n",
       "    <tr>\n",
       "      <th>2</th>\n",
       "      <td>-0.090903</td>\n",
       "      <td>0.336971</td>\n",
       "      <td>-0.462109</td>\n",
       "      <td>-0.694403</td>\n",
       "      <td>-0.764786</td>\n",
       "      <td>-1.099975</td>\n",
       "      <td>0.429244</td>\n",
       "      <td>0.484851</td>\n",
       "      <td>-0.759613</td>\n",
       "      <td>-0.209223</td>\n",
       "      <td>...</td>\n",
       "      <td>-0.044359</td>\n",
       "      <td>-0.399600</td>\n",
       "      <td>0.234207</td>\n",
       "      <td>1.032026</td>\n",
       "      <td>0.106038</td>\n",
       "      <td>0.035479</td>\n",
       "      <td>-0.391570</td>\n",
       "      <td>1.320701</td>\n",
       "      <td>-0.130269</td>\n",
       "      <td>1</td>\n",
       "    </tr>\n",
       "    <tr>\n",
       "      <th>3</th>\n",
       "      <td>-0.376483</td>\n",
       "      <td>0.397977</td>\n",
       "      <td>-0.816744</td>\n",
       "      <td>-0.167675</td>\n",
       "      <td>-0.651778</td>\n",
       "      <td>-1.084605</td>\n",
       "      <td>0.303687</td>\n",
       "      <td>0.748029</td>\n",
       "      <td>-0.966027</td>\n",
       "      <td>-0.339961</td>\n",
       "      <td>...</td>\n",
       "      <td>0.258972</td>\n",
       "      <td>-0.785091</td>\n",
       "      <td>0.155256</td>\n",
       "      <td>1.196231</td>\n",
       "      <td>0.492723</td>\n",
       "      <td>0.400738</td>\n",
       "      <td>-0.468616</td>\n",
       "      <td>1.013882</td>\n",
       "      <td>-0.340862</td>\n",
       "      <td>0</td>\n",
       "    </tr>\n",
       "    <tr>\n",
       "      <th>4</th>\n",
       "      <td>0.028473</td>\n",
       "      <td>-0.047819</td>\n",
       "      <td>-0.467983</td>\n",
       "      <td>-0.608043</td>\n",
       "      <td>-0.605822</td>\n",
       "      <td>-1.092767</td>\n",
       "      <td>0.191818</td>\n",
       "      <td>0.583447</td>\n",
       "      <td>-0.693488</td>\n",
       "      <td>0.050210</td>\n",
       "      <td>...</td>\n",
       "      <td>-0.001755</td>\n",
       "      <td>-0.205873</td>\n",
       "      <td>0.081464</td>\n",
       "      <td>0.875308</td>\n",
       "      <td>0.236721</td>\n",
       "      <td>0.014621</td>\n",
       "      <td>-0.277301</td>\n",
       "      <td>1.045310</td>\n",
       "      <td>-0.047616</td>\n",
       "      <td>1</td>\n",
       "    </tr>\n",
       "  </tbody>\n",
       "</table>\n",
       "<p>5 rows × 101 columns</p>\n",
       "</div>"
      ],
      "text/plain": [
       "          0         1         2         3         4         5         6  \\\n",
       "0 -0.148692  0.466134 -0.486252 -0.690672 -0.820072 -1.145559  0.510501   \n",
       "1 -0.210207  0.281609 -0.754280 -0.000812 -0.515597 -1.020687  0.611317   \n",
       "2 -0.090903  0.336971 -0.462109 -0.694403 -0.764786 -1.099975  0.429244   \n",
       "3 -0.376483  0.397977 -0.816744 -0.167675 -0.651778 -1.084605  0.303687   \n",
       "4  0.028473 -0.047819 -0.467983 -0.608043 -0.605822 -1.092767  0.191818   \n",
       "\n",
       "          7         8         9  ...        91        92        93        94  \\\n",
       "0  0.415211 -0.910415 -0.272286  ... -0.041638 -0.516989  0.168826  1.117325   \n",
       "1  0.437532 -0.769369 -0.191258  ...  0.120672 -0.432101  0.280542  0.875076   \n",
       "2  0.484851 -0.759613 -0.209223  ... -0.044359 -0.399600  0.234207  1.032026   \n",
       "3  0.748029 -0.966027 -0.339961  ...  0.258972 -0.785091  0.155256  1.196231   \n",
       "4  0.583447 -0.693488  0.050210  ... -0.001755 -0.205873  0.081464  0.875308   \n",
       "\n",
       "         95        96        97        98        99  Label  \n",
       "0  0.015239  0.197807 -0.390675  1.528880 -0.232648      1  \n",
       "1  0.048334 -0.089805 -0.622025  0.941564 -0.108161      0  \n",
       "2  0.106038  0.035479 -0.391570  1.320701 -0.130269      1  \n",
       "3  0.492723  0.400738 -0.468616  1.013882 -0.340862      0  \n",
       "4  0.236721  0.014621 -0.277301  1.045310 -0.047616      1  \n",
       "\n",
       "[5 rows x 101 columns]"
      ]
     },
     "execution_count": 54,
     "metadata": {},
     "output_type": "execute_result"
    }
   ],
   "source": [
    "# Function to learn word embeddings from the email dataset and create a feature vector for each email\n",
    "def vectorize_with_word_embeddings(tokenized_data, labels):\n",
    "    # Train a Word2Vec model\n",
    "    word2vec_model = Word2Vec(sentences=tokenized_data, vector_size=100, window=5, min_count=1, workers=4)\n",
    "    \n",
    "    # Function to create a feature vector for each email by averaging its word vectors\n",
    "    def email_feature_vector(email_tokens):\n",
    "        # Remove out-of-vocabulary words and get their vectors\n",
    "        vectors = [word2vec_model.wv[word] for word in email_tokens if word in word2vec_model.wv]\n",
    "        # If an email has no words in the model, return a zero vector\n",
    "        if len(vectors) == 0:\n",
    "            return np.zeros(word2vec_model.vector_size)\n",
    "        # Return the mean of the word vectors\n",
    "        return np.mean(vectors, axis=0)\n",
    "    \n",
    "    # Apply the function to each email to get a list of feature vectors\n",
    "    feature_vectors = np.array([email_feature_vector(email) for email in tokenized_data])\n",
    "    \n",
    "    # Create a DataFrame with the feature vectors\n",
    "    vectorized_data = pd.DataFrame(feature_vectors)\n",
    "    \n",
    "    # Add the labels to the DataFrame\n",
    "    vectorized_data['Label'] = labels.reset_index(drop=True)\n",
    "    \n",
    "    return vectorized_data\n",
    "\n",
    "# Apply the function to your tokenized data and labels\n",
    "vectorized_emails = vectorize_with_word_embeddings(tokens, balanced_data['Label'])\n",
    "\n",
    "vectorized_emails.head()\n"
   ]
  },
  {
   "cell_type": "markdown",
   "metadata": {},
   "source": [
    "## Splitting the data\n",
    "Splitting the data into training and test sets (80/20)"
   ]
  },
  {
   "cell_type": "code",
   "execution_count": 55,
   "metadata": {},
   "outputs": [],
   "source": [
    "#Define X and y\n",
    "X = vectorized_emails.drop('Label', axis=1)  # Drop the 'Label' column to get features\n",
    "y = vectorized_emails['Label']  # 'Label' column as the target\n",
    "\n",
    "# Split the data into training and testing sets\n",
    "X_train, X_test, y_train, y_test = train_test_split(X, y, test_size=0.2, random_state=42)"
   ]
  },
  {
   "cell_type": "markdown",
   "metadata": {},
   "source": [
    "## Logistic Regression\n",
    "For the sake of the assignment we were tasked to use a Niave Base Model, however we wanted to note the increase on accuracy with the logistic regression model"
   ]
  },
  {
   "cell_type": "code",
   "execution_count": 56,
   "metadata": {},
   "outputs": [
    {
     "name": "stdout",
     "output_type": "stream",
     "text": [
      "Model Accuracy: 0.958\n"
     ]
    }
   ],
   "source": [
    "# Train a Logistic Regression model\n",
    "logistic_model = LogisticRegression(max_iter=1000)\n",
    "logistic_model.fit(X_train, y_train)\n",
    "\n",
    "# Predict labels for the test set\n",
    "logistic_y_pred = logistic_model.predict(X_test)\n",
    "\n",
    "# Evaluate the model\n",
    "accuracy = accuracy_score(y_test, logistic_y_pred)\n",
    "print(f'Model Accuracy: {accuracy:.3f}')\n"
   ]
  },
  {
   "cell_type": "markdown",
   "metadata": {},
   "source": [
    "## Multinomial Naive Bayes Model\n",
    "\n",
    "To use a Multinomial model, we have to normalize the vectors (Normalizing word vectors doesn't \"mess up\" the word embeddings in the sense that it doesn't destroy their meaning or relationships entirely)"
   ]
  },
  {
   "cell_type": "code",
   "execution_count": 57,
   "metadata": {},
   "outputs": [
    {
     "name": "stdout",
     "output_type": "stream",
     "text": [
      "Model Accuracy: 0.908\n"
     ]
    }
   ],
   "source": [
    "from sklearn.naive_bayes import MultinomialNB\n",
    "from sklearn.preprocessing import MinMaxScaler\n",
    "\n",
    "# Since MultinomialNB expects non-negative inputs, we use MinMaxScaler to ensure this\n",
    "scaler = MinMaxScaler()\n",
    "X_train_scaled = scaler.fit_transform(X_train)\n",
    "X_test_scaled = scaler.transform(X_test)\n",
    "\n",
    "# Initialize the Multinomial Naive Bayes classifier\n",
    "multinomial_model = MultinomialNB()\n",
    "\n",
    "# Train the classifier\n",
    "multinomial_model.fit(X_train_scaled, y_train)\n",
    "\n",
    "# Predictions\n",
    "multinomial_y_pred = multinomial_model.predict(X_test_scaled)\n",
    "\n",
    "# Evaluate the classifier\n",
    "multinomial_accuracy = accuracy_score(y_test, multinomial_y_pred)\n",
    "\n",
    "print(f'Model Accuracy: {multinomial_accuracy:.3f}')\n"
   ]
  },
  {
   "cell_type": "markdown",
   "metadata": {},
   "source": [
    "## Gaussian Niave Bayes "
   ]
  },
  {
   "cell_type": "code",
   "execution_count": 58,
   "metadata": {},
   "outputs": [],
   "source": [
    "# Train a Gaussian Naive Bayes model\n",
    "gaussian_model = GaussianNB()\n",
    "gaussian_model.fit(X_train, y_train)\n",
    "\n",
    "# Predict labels for the test set\n",
    "gaussian_y_pred = gaussian_model.predict(X_test)"
   ]
  },
  {
   "cell_type": "code",
   "execution_count": 59,
   "metadata": {},
   "outputs": [
    {
     "name": "stdout",
     "output_type": "stream",
     "text": [
      "Model Accuracy: 0.905\n",
      "\n",
      "Classification Report:\n",
      "              precision    recall  f1-score   support\n",
      "\n",
      "           0       0.93      0.89      0.91       369\n",
      "           1       0.88      0.92      0.90       305\n",
      "\n",
      "    accuracy                           0.91       674\n",
      "   macro avg       0.90      0.91      0.90       674\n",
      "weighted avg       0.91      0.91      0.91       674\n",
      "\n"
     ]
    },
    {
     "data": {
      "image/png": "[encoded data removed]",
      "text/plain": [
       "<Figure size 1000x700 with 1 Axes>"
      ]
     },
     "metadata": {},
     "output_type": "display_data"
    }
   ],
   "source": [
    "# Evaluate the model\n",
    "from sklearn.metrics import mean_squared_error\n",
    "\n",
    "#accuracy\n",
    "gaussian_accuracy = accuracy_score(y_test, gaussian_y_pred)\n",
    "\n",
    "print(f'Model Accuracy: {gaussian_accuracy:.3f}')\n",
    "# Calculate precision, recall, F1 score, and support\n",
    "class_report = classification_report(y_test, gaussian_y_pred)\n",
    "print(\"\\nClassification Report:\")\n",
    "print(class_report)\n",
    "\n",
    "\n",
    "# Assuming `y_test` are your true labels and `y_pred` are your model's predictions\n",
    "conf_matrix = confusion_matrix(y_test, gaussian_y_pred)\n",
    "\n",
    "# Define class names (adjust these to your specific class names)\n",
    "class_names = ['Class1', 'Class2']  # Example class names, replace with your actual class names\n",
    "\n",
    "# Generate tick marks for the confusion matrix\n",
    "tick_marks = np.arange(len(class_names))\n",
    "\n",
    "# Plotting\n",
    "plt.figure(figsize=(10, 7))  # Set the figure size for the plot\n",
    "sns.set(font_scale=1.4)  # Set the scale for font size\n",
    "sns.heatmap(conf_matrix, annot=True, fmt='g', cmap='Blues', cbar=False, xticklabels=class_names, yticklabels=class_names)\n",
    "\n",
    "# Aesthetics\n",
    "plt.xlabel('Predicted labels')  # X-axis label\n",
    "plt.ylabel('True labels')  # Y-axis label\n",
    "plt.title('Confusion Matrix')  # Title of the plot\n",
    "plt.xticks(tick_marks, class_names)  # Set the tick marks and class names for the x-axis\n",
    "plt.yticks(tick_marks, class_names, rotation=0)  # Set the tick marks and class names for the y-axis, with no rotation\n",
    "plt.show()  # Display the plot\n",
    "\n"
   ]
  },
  {
   "cell_type": "markdown",
   "metadata": {},
   "source": [
    "## Estimating Errors and Interpeting the Evaluation\n",
    "\n",
    "Model Accuracy: .90 \n",
    "    This means that the model correctly predicts whether an email is spam or not 90 percent of the time.  \n",
    "\n",
    "Classification Report: \n",
    "\n",
    "Precision: 0.92 and 0.89\n",
    "    This high precision relates to low false positive rates. The model is very good at not labeling a non-spam email as spam. \n",
    "\n",
    "Recall: .91 and 0.90\n",
    "    Recall is the ratio of correctly predicted positive observations to all observations in the actual class. The recall of 0.91 for non-spam emails indicates the model is good at identifying non-spam emails, and similarly, a recall of 0.90 for spam emails means it's quite adept at catching spam emails.\n",
    "\n",
    "F1-Score:\n",
    "    The F1 score is the weighted average of Precision and Recall. Therefore, this score takes both false positives and false negatives into account. An F1 score reaches its best value at 1 (perfect precision and recall) and worst at 0. Both classes have an F1 score of 0.91, which is quite high, suggesting a well-balanced classification performance.\n",
    "    \n",
    "Support: \n",
    "    This is the number of actual occurrences of the class in the specified dataset. For non-spam, there are 369 instances, and for spam, there are 305 instances."
   ]
  },
  {
   "cell_type": "markdown",
   "metadata": {},
   "source": [
    "## Model Improvement\n",
    "When observing the orgina stopword removal we noticed some symbols were kept that appeared more often in spam emails when just looking through the data. We decided that adjusting the cleaning or stopword removal the data could help improve the data. We decided to adjust the stopword by adding our own adjustments to remove special symbols and keep important ones so the model would be vectorized based only on actual words. One could expand on this and write more code to find out the best symbols to keep and get rid of to improve the model even more"
   ]
  },
  {
   "cell_type": "code",
   "execution_count": 60,
   "metadata": {},
   "outputs": [
    {
     "data": {
      "text/html": [
       "<div>\n",
       "<style scoped>\n",
       "    .dataframe tbody tr th:only-of-type {\n",
       "        vertical-align: middle;\n",
       "    }\n",
       "\n",
       "    .dataframe tbody tr th {\n",
       "        vertical-align: top;\n",
       "    }\n",
       "\n",
       "    .dataframe thead th {\n",
       "        text-align: right;\n",
       "    }\n",
       "</style>\n",
       "<table border=\"1\" class=\"dataframe\">\n",
       "  <thead>\n",
       "    <tr style=\"text-align: right;\">\n",
       "      <th></th>\n",
       "      <th>0</th>\n",
       "      <th>1</th>\n",
       "      <th>2</th>\n",
       "      <th>3</th>\n",
       "      <th>4</th>\n",
       "      <th>5</th>\n",
       "      <th>6</th>\n",
       "      <th>7</th>\n",
       "      <th>8</th>\n",
       "      <th>9</th>\n",
       "      <th>...</th>\n",
       "      <th>91</th>\n",
       "      <th>92</th>\n",
       "      <th>93</th>\n",
       "      <th>94</th>\n",
       "      <th>95</th>\n",
       "      <th>96</th>\n",
       "      <th>97</th>\n",
       "      <th>98</th>\n",
       "      <th>99</th>\n",
       "      <th>Label</th>\n",
       "    </tr>\n",
       "  </thead>\n",
       "  <tbody>\n",
       "    <tr>\n",
       "      <th>0</th>\n",
       "      <td>-0.155748</td>\n",
       "      <td>0.625300</td>\n",
       "      <td>-0.293341</td>\n",
       "      <td>-0.918841</td>\n",
       "      <td>-0.633487</td>\n",
       "      <td>-0.904898</td>\n",
       "      <td>0.191640</td>\n",
       "      <td>0.511397</td>\n",
       "      <td>-0.775486</td>\n",
       "      <td>-0.520616</td>\n",
       "      <td>...</td>\n",
       "      <td>-0.084722</td>\n",
       "      <td>-0.120678</td>\n",
       "      <td>0.253822</td>\n",
       "      <td>0.439315</td>\n",
       "      <td>-0.061015</td>\n",
       "      <td>0.520348</td>\n",
       "      <td>-0.614419</td>\n",
       "      <td>1.620494</td>\n",
       "      <td>-0.241430</td>\n",
       "      <td>1</td>\n",
       "    </tr>\n",
       "    <tr>\n",
       "      <th>1</th>\n",
       "      <td>-0.168274</td>\n",
       "      <td>0.302873</td>\n",
       "      <td>-0.510650</td>\n",
       "      <td>-0.243157</td>\n",
       "      <td>-0.411118</td>\n",
       "      <td>-0.714740</td>\n",
       "      <td>0.415058</td>\n",
       "      <td>0.361211</td>\n",
       "      <td>-0.650973</td>\n",
       "      <td>-0.323705</td>\n",
       "      <td>...</td>\n",
       "      <td>0.019704</td>\n",
       "      <td>-0.217483</td>\n",
       "      <td>0.333499</td>\n",
       "      <td>0.512966</td>\n",
       "      <td>0.017263</td>\n",
       "      <td>0.160691</td>\n",
       "      <td>-0.861513</td>\n",
       "      <td>1.038908</td>\n",
       "      <td>-0.194903</td>\n",
       "      <td>0</td>\n",
       "    </tr>\n",
       "    <tr>\n",
       "      <th>2</th>\n",
       "      <td>-0.111311</td>\n",
       "      <td>0.532919</td>\n",
       "      <td>-0.235706</td>\n",
       "      <td>-0.889030</td>\n",
       "      <td>-0.561690</td>\n",
       "      <td>-0.879030</td>\n",
       "      <td>0.093477</td>\n",
       "      <td>0.611644</td>\n",
       "      <td>-0.628504</td>\n",
       "      <td>-0.491536</td>\n",
       "      <td>...</td>\n",
       "      <td>-0.102232</td>\n",
       "      <td>0.013504</td>\n",
       "      <td>0.352567</td>\n",
       "      <td>0.378323</td>\n",
       "      <td>0.078888</td>\n",
       "      <td>0.406659</td>\n",
       "      <td>-0.585407</td>\n",
       "      <td>1.403480</td>\n",
       "      <td>-0.110516</td>\n",
       "      <td>1</td>\n",
       "    </tr>\n",
       "    <tr>\n",
       "      <th>3</th>\n",
       "      <td>-0.253061</td>\n",
       "      <td>0.614360</td>\n",
       "      <td>-0.707283</td>\n",
       "      <td>-0.330251</td>\n",
       "      <td>-0.520843</td>\n",
       "      <td>-0.825338</td>\n",
       "      <td>0.092536</td>\n",
       "      <td>0.708983</td>\n",
       "      <td>-0.742262</td>\n",
       "      <td>-0.521509</td>\n",
       "      <td>...</td>\n",
       "      <td>0.215495</td>\n",
       "      <td>-0.579913</td>\n",
       "      <td>0.213310</td>\n",
       "      <td>0.788192</td>\n",
       "      <td>0.258341</td>\n",
       "      <td>0.565413</td>\n",
       "      <td>-0.561360</td>\n",
       "      <td>1.158651</td>\n",
       "      <td>-0.270682</td>\n",
       "      <td>0</td>\n",
       "    </tr>\n",
       "    <tr>\n",
       "      <th>4</th>\n",
       "      <td>0.080071</td>\n",
       "      <td>0.123433</td>\n",
       "      <td>-0.249435</td>\n",
       "      <td>-0.786151</td>\n",
       "      <td>-0.454518</td>\n",
       "      <td>-0.975643</td>\n",
       "      <td>-0.079779</td>\n",
       "      <td>0.679254</td>\n",
       "      <td>-0.549351</td>\n",
       "      <td>-0.201004</td>\n",
       "      <td>...</td>\n",
       "      <td>0.051110</td>\n",
       "      <td>0.091987</td>\n",
       "      <td>0.271347</td>\n",
       "      <td>0.239924</td>\n",
       "      <td>0.167758</td>\n",
       "      <td>0.343153</td>\n",
       "      <td>-0.440238</td>\n",
       "      <td>1.157051</td>\n",
       "      <td>-0.046514</td>\n",
       "      <td>1</td>\n",
       "    </tr>\n",
       "  </tbody>\n",
       "</table>\n",
       "<p>5 rows × 101 columns</p>\n",
       "</div>"
      ],
      "text/plain": [
       "          0         1         2         3         4         5         6  \\\n",
       "0 -0.155748  0.625300 -0.293341 -0.918841 -0.633487 -0.904898  0.191640   \n",
       "1 -0.168274  0.302873 -0.510650 -0.243157 -0.411118 -0.714740  0.415058   \n",
       "2 -0.111311  0.532919 -0.235706 -0.889030 -0.561690 -0.879030  0.093477   \n",
       "3 -0.253061  0.614360 -0.707283 -0.330251 -0.520843 -0.825338  0.092536   \n",
       "4  0.080071  0.123433 -0.249435 -0.786151 -0.454518 -0.975643 -0.079779   \n",
       "\n",
       "          7         8         9  ...        91        92        93        94  \\\n",
       "0  0.511397 -0.775486 -0.520616  ... -0.084722 -0.120678  0.253822  0.439315   \n",
       "1  0.361211 -0.650973 -0.323705  ...  0.019704 -0.217483  0.333499  0.512966   \n",
       "2  0.611644 -0.628504 -0.491536  ... -0.102232  0.013504  0.352567  0.378323   \n",
       "3  0.708983 -0.742262 -0.521509  ...  0.215495 -0.579913  0.213310  0.788192   \n",
       "4  0.679254 -0.549351 -0.201004  ...  0.051110  0.091987  0.271347  0.239924   \n",
       "\n",
       "         95        96        97        98        99  Label  \n",
       "0 -0.061015  0.520348 -0.614419  1.620494 -0.241430      1  \n",
       "1  0.017263  0.160691 -0.861513  1.038908 -0.194903      0  \n",
       "2  0.078888  0.406659 -0.585407  1.403480 -0.110516      1  \n",
       "3  0.258341  0.565413 -0.561360  1.158651 -0.270682      0  \n",
       "4  0.167758  0.343153 -0.440238  1.157051 -0.046514      1  \n",
       "\n",
       "[5 rows x 101 columns]"
      ]
     },
     "execution_count": 60,
     "metadata": {},
     "output_type": "execute_result"
    }
   ],
   "source": [
    "stop_words = set(stopwords.words('english'))\n",
    "# Define your custom stopwords, including specific symbols you want to remove\n",
    "custom_stopwords = {'...', '``', \"''\", '--', '(', ')', '-', '[', ']', '{', '}', ';',  ',', '\\\\', '|', '&', '%', '@', '+', '=', '_', '~'}\n",
    "\n",
    "# Symbols that you've decided might be important for spam detection\n",
    "important_symbols = {'$', '£', '€', '!', '?', '#', '*', '<', '>', ':', '/','^'}\n",
    "\n",
    "# Function to clean tokens, remove custom stopwords, and preserve important symbols\n",
    "def clean_tokens(token_list):\n",
    "    cleaned_tokens = []\n",
    "    for word in token_list:\n",
    "        # Remove any unimportant symbols from the word\n",
    "        word_cleaned = ''.join(char for char in word if char.isalpha() or char in important_symbols)\n",
    "        \n",
    "        # Now check if the cleaned word is a stopword or entirely composed of unimportant symbols\n",
    "        if word_cleaned.lower() not in stop_words and word_cleaned not in custom_stopwords and len(word_cleaned) > 0:\n",
    "            # If the word is alphabetic or an important symbol, or a mix of those, keep it\n",
    "            if any(char.isalpha() for char in word_cleaned) or all(char in important_symbols for char in word_cleaned):\n",
    "                cleaned_tokens.append(word_cleaned)\n",
    "    return cleaned_tokens\n",
    "\n",
    "# Apply the function to each list of tokens in the Series\n",
    "filtered_tokens = tokens.apply(clean_tokens)\n",
    "\n",
    "# Display the first few entries of the tokenized, stopword-removed, and symbol-cleaned email data\n",
    "filtered_tokens.head()\n",
    "\n",
    "\n",
    "# Display the first few entries of the tokenized, stopword-removed, and symbol-cleaned email data\n",
    "\n",
    "# Initialize stemmer and lemmatizer\n",
    "stemmer = PorterStemmer()\n",
    "lemmatizer = WordNetLemmatizer()\n",
    "\n",
    "# Assuming filtered_tokens is a list of lists (each inner list is a list of tokens from a document)\n",
    "stems = [[stemmer.stem(word) for word in token_list] for token_list in filtered_tokens]\n",
    "lemmas = [[lemmatizer.lemmatize(word) for word in token_list] for token_list in filtered_tokens]\n",
    "\n",
    "# Function to learn word embeddings from the email dataset and create a feature vector for each email\n",
    "def vectorize_with_word_embeddings(tokenized_data, labels):\n",
    "    # Train a Word2Vec model\n",
    "    word2vec_model = Word2Vec(sentences=tokenized_data, vector_size=100, window=5, min_count=1, workers=4)\n",
    "    \n",
    "    # Function to create a feature vector for each email by averaging its word vectors\n",
    "    def email_feature_vector(email_tokens):\n",
    "        # Remove out-of-vocabulary words and get their vectors\n",
    "        vectors = [word2vec_model.wv[word] for word in email_tokens if word in word2vec_model.wv]\n",
    "        # If an email has no words in the model, return a zero vector\n",
    "        if len(vectors) == 0:\n",
    "            return np.zeros(word2vec_model.vector_size)\n",
    "        # Return the mean of the word vectors\n",
    "        return np.mean(vectors, axis=0)\n",
    "    \n",
    "    # Apply the function to each email to get a list of feature vectors\n",
    "    feature_vectors = np.array([email_feature_vector(email) for email in tokenized_data])\n",
    "    \n",
    "    # Create a DataFrame with the feature vectors\n",
    "    vectorized_data = pd.DataFrame(feature_vectors)\n",
    "    \n",
    "    # Add the labels to the DataFrame\n",
    "    vectorized_data['Label'] = labels.reset_index(drop=True)\n",
    "    \n",
    "    return vectorized_data\n",
    "\n",
    "# Apply the function to your tokenized data and labels\n",
    "vectorized_emails = vectorize_with_word_embeddings(tokens, balanced_data['Label'])\n",
    "\n",
    "vectorized_emails.head()\n",
    "\n",
    "\n"
   ]
  },
  {
   "cell_type": "markdown",
   "metadata": {},
   "source": [
    "## Gaussian Nayes Model With Improvement\n",
    "Here is the model with the philosohpy stated above we used for improving"
   ]
  },
  {
   "cell_type": "code",
   "execution_count": 61,
   "metadata": {},
   "outputs": [
    {
     "name": "stdout",
     "output_type": "stream",
     "text": [
      "Model Accuracy: 0.908\n",
      "Model Mean Squared Error: 0.092\n",
      "\n",
      "Classification Report:\n",
      "              precision    recall  f1-score   support\n",
      "\n",
      "           0       0.93      0.90      0.91       369\n",
      "           1       0.89      0.91      0.90       305\n",
      "\n",
      "    accuracy                           0.91       674\n",
      "   macro avg       0.91      0.91      0.91       674\n",
      "weighted avg       0.91      0.91      0.91       674\n",
      "\n"
     ]
    }
   ],
   "source": [
    "#Define X and y\n",
    "X = vectorized_emails.drop('Label', axis=1)  # Drop the 'Label' column to get features\n",
    "y = vectorized_emails['Label']  # 'Label' column as the target\n",
    "\n",
    "# Split the data into training and testing sets\n",
    "X_train, X_test, y_train, y_test = train_test_split(X, y, test_size=0.2, random_state=42)\n",
    "\n",
    "# Train a Gaussian Naive Bayes model\n",
    "gaussian_model2 = GaussianNB()\n",
    "gaussian_model2.fit(X_train, y_train)\n",
    "\n",
    "# Predict labels for the test set using the updated model name\n",
    "gaussian_y_pred = gaussian_model2.predict(X_test)\n",
    "\n",
    "# Evaluate the model\n",
    "gaussian_accuracy = accuracy_score(y_test, gaussian_y_pred)\n",
    "gaussian_mse = mean_squared_error(y_test, gaussian_y_pred)\n",
    "\n",
    "# Print accuracy and mean squared error\n",
    "print(f'Model Accuracy: {gaussian_accuracy:.3f}')\n",
    "print(f'Model Mean Squared Error: {gaussian_mse:.3f}')\n",
    "\n",
    "# Calculate precision, recall, F1 score, and support using the updated predictions\n",
    "class_report = classification_report(y_test, gaussian_y_pred)\n",
    "print(\"\\nClassification Report:\")\n",
    "print(class_report)\n"
   ]
  },
  {
   "cell_type": "markdown",
   "metadata": {},
   "source": [
    "## Cross Validation\n",
    "We decided to improve the model using cross validation which gives us more accurate understanding of your model's ability to generalize to unseen data"
   ]
  },
  {
   "cell_type": "code",
   "execution_count": 62,
   "metadata": {},
   "outputs": [
    {
     "name": "stdout",
     "output_type": "stream",
     "text": [
      "Mean Accuracy with 5-Fold Cross-Validation: 0.91\n",
      "Precision: 0.8857\n",
      "Recall: 0.9148\n"
     ]
    }
   ],
   "source": [
    "# Define the number of folds for cross-validation\n",
    "n_folds = 5\n",
    "\n",
    "# Perform cross-validation and calculate the mean accuracy\n",
    "scores = cross_val_score(gaussian_model, X, y, cv=n_folds, scoring='accuracy')\n",
    "mean_accuracy = scores.mean()\n",
    "\n",
    "print(f'Mean Accuracy with {n_folds}-Fold Cross-Validation: {mean_accuracy:.2f}')\n",
    "\n",
    "# Initialize stratified K-Fold\n",
    "stratified_kfold = StratifiedKFold(n_splits=n_folds)\n",
    "\n",
    "# Perform cross-validation using stratified K-Fold\n",
    "scores = cross_val_score(gaussian_model, X, y, cv=stratified_kfold, scoring='accuracy')\n",
    "\n",
    "# Calculate precision and recall\n",
    "precision = precision_score(y_test, gaussian_y_pred)\n",
    "recall = recall_score(y_test, gaussian_y_pred)\n",
    "print(f\"Precision: {precision:.4f}\")\n",
    "print(f\"Recall: {recall:.4f}\")\n",
    "\n"
   ]
  },
  {
   "cell_type": "markdown",
   "metadata": {},
   "source": [
    "## Learning Curve Model Validation\n",
    "This helps identifying whether the model is overfitting or underfitting. Overfitting is when the model performs well on the training data but poorly on unseen data. Underfitting is when the model performs poorly on both. As seen there doesnt seem to be any overfitting or underfitting, and that the model is just right"
   ]
  },
  {
   "cell_type": "code",
   "execution_count": 63,
   "metadata": {},
   "outputs": [
    {
     "data": {
      "image/png": "[encoded data removed]",
      "text/plain": [
       "<Figure size 1200x600 with 1 Axes>"
      ]
     },
     "metadata": {},
     "output_type": "display_data"
    }
   ],
   "source": [
    "# Generate learning curves\n",
    "train_sizes, train_scores, test_scores = learning_curve(gaussian_model, X, y, cv=5)\n",
    "train_scores_mean = train_scores.mean(axis=1)\n",
    "test_scores_mean = test_scores.mean(axis=1)\n",
    "\n",
    "# Plot learning curves\n",
    "plt.figure(figsize=(12, 6))\n",
    "plt.plot(train_sizes, train_scores_mean, 'o-', color=\"r\", label=\"Training score\")\n",
    "plt.plot(train_sizes, test_scores_mean, 'o-', color=\"g\", label=\"Cross-validation score\")\n",
    "plt.title('Learning Curves for Gaussian Naive Bayes Model')\n",
    "plt.xlabel('Training Set Size'), plt.ylabel('Accuracy Score'), plt.legend(loc=\"best\")\n",
    "plt.grid()\n",
    "plt.show()"
   ]
  },
  {
   "cell_type": "markdown",
   "metadata": {},
   "source": [
    "## Output Interpretation\n",
    "\n",
    "Model Performance Metrics: The classification report suggests that the model has an accuracy of 91.1%, which means it correctly predicts whether an email is spam or not 91.1% of the time. The precision for class 0 (non-spam) is 94%, and for class 1 (spam) is 88%, indicating that the model is slightly better at identifying non-spam emails. The recall is 90% for non-spam and 93% for spam emails, meaning the model is slightly better at identifying all spam emails in the dataset. The F1-score, which is a balance between precision and recall, is 92% for non-spam and 90% for spam, showing good overall performance.\n",
    "\n",
    "Learning Curve: The learning curve demonstrates the model's performance on both the training set and the validation set across different training set sizes. The plot suggests that the training score decreases slightly with more data, while the cross-validation score increases, converging towards the training score. This indicates that the model is not overfitting or underfitting, as the two scores converge with more data, suggesting that adding more data helps the model generalize better.\n",
    "\n",
    "Learning Curve Plot: The graph shows the training and cross-validation scores. The training score starts high and decreases, suggesting that the model fits the training data well initially but then generalizes as more data is added. The cross-validation score increases with more data, which is typical as the model learns from a more comprehensive range of examples. The fact that both scores converge indicates that the model's performance is stabilizing and it is neither overfitting nor underfitting.\n",
    "\n",
    "Overall, the model seems to perform well. Cross-validation indicates good generalization to unseen data, and the learning curve suggests that the model is well-balanced between bias and variance. However, to fully understand the model's performance, it would be helpful to look at other metrics such as the confusion matrix and ROC curve, and also to ensure that the dataset is balanced or that the metrics are interpreted in light of any imbalance."
   ]
  }
 ],
 "metadata": {
  "kernelspec": {
   "display_name": "Python 3",
   "language": "python",
   "name": "python3"
  },
  "language_info": {
   "codemirror_mode": {
    "name": "ipython",
    "version": 3
   },
   "file_extension": ".py",
   "mimetype": "text/x-python",
   "name": "python",
   "nbconvert_exporter": "python",
   "pygments_lexer": "ipython3",
   "version": "3.9.6"
  }
 },
 "nbformat": 4,
 "nbformat_minor": 2
}
